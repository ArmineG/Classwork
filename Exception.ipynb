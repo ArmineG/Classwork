{
 "cells": [
  {
   "cell_type": "code",
   "execution_count": 3,
   "metadata": {},
   "outputs": [
    {
     "name": "stdout",
     "output_type": "stream",
     "text": [
      "this modeule is not defined\n"
     ]
    }
   ],
   "source": [
    "try:\n",
    "    import Armine as pd1\n",
    "except ModuleNotFoundError:\n",
    "    print(\"this modeule is not defined\")\n",
    "    \n"
   ]
  },
  {
   "cell_type": "code",
   "execution_count": 25,
   "metadata": {},
   "outputs": [
    {
     "name": "stdout",
     "output_type": "stream",
     "text": [
      "The entry is:  a\n",
      "Oops! unsupported operand type(s) for /: 'int' and 'str'\n",
      "The entry is:  0\n",
      "Oops! division by zero\n",
      "The entry is:  2\n",
      "0.5\n"
     ]
    }
   ],
   "source": [
    "list1=['a', 0, 2]\n",
    "for i in list1:\n",
    "    try:\n",
    "        print('The entry is: ', i)\n",
    "        print(1/i)\n",
    "    except Exception as e:\n",
    "        print(\"Oops!\", e)\n",
    "       "
   ]
  },
  {
   "cell_type": "code",
   "execution_count": 35,
   "metadata": {},
   "outputs": [
    {
     "name": "stdout",
     "output_type": "stream",
     "text": [
      "Please enter your username Armine\n",
      "Welcome Armine\n"
     ]
    }
   ],
   "source": [
    "class MyException(Exception):\n",
    "    pass\n",
    "try:\n",
    "    username = input(\"Please enter your username \")\n",
    "    if username == \"Rambo\":\n",
    "        raise MyException(\"Rambo is an invalid username\")\n",
    "    else:\n",
    "        print(\"Welcome\", username)\n",
    "except Exception as e:\n",
    "    print(e)"
   ]
  },
  {
   "cell_type": "code",
   "execution_count": null,
   "metadata": {},
   "outputs": [],
   "source": []
  },
  {
   "cell_type": "code",
   "execution_count": null,
   "metadata": {},
   "outputs": [],
   "source": []
  }
 ],
 "metadata": {
  "kernelspec": {
   "display_name": "Python 3",
   "language": "python",
   "name": "python3"
  },
  "language_info": {
   "codemirror_mode": {
    "name": "ipython",
    "version": 3
   },
   "file_extension": ".py",
   "mimetype": "text/x-python",
   "name": "python",
   "nbconvert_exporter": "python",
   "pygments_lexer": "ipython3",
   "version": "3.6.5"
  }
 },
 "nbformat": 4,
 "nbformat_minor": 2
}

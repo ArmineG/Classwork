{
 "cells": [
  {
   "cell_type": "code",
   "execution_count": 19,
   "metadata": {},
   "outputs": [],
   "source": [
    "class Rectangle:\n",
    "    def __init__(self, l, w):\n",
    "        self.length = l\n",
    "        self.width = w\n",
    "    def perimeter(self):\n",
    "        return 2*(self.length+self.width)\n",
    "    \n",
    "    def area(self):\n",
    "        return (self.length*self.width)"
   ]
  },
  {
   "cell_type": "code",
   "execution_count": 21,
   "metadata": {},
   "outputs": [
    {
     "name": "stdout",
     "output_type": "stream",
     "text": [
      "5\n",
      "4\n",
      "50\n"
     ]
    }
   ],
   "source": [
    "rec1 = Rectangle(l=10, w=5)\n",
    "print(rec1.width)\n",
    "rec1.perimeter()\n",
    "\n",
    "rec2 = Rectangle(l=12, w=4)\n",
    "print(rec2.width)\n",
    "rec2.perimeter()\n",
    "rec2.area()\n",
    "print(rec1.area())"
   ]
  },
  {
   "cell_type": "code",
   "execution_count": null,
   "metadata": {},
   "outputs": [],
   "source": []
  }
 ],
 "metadata": {
  "kernelspec": {
   "display_name": "Python 3",
   "language": "python",
   "name": "python3"
  },
  "language_info": {
   "codemirror_mode": {
    "name": "ipython",
    "version": 3
   },
   "file_extension": ".py",
   "mimetype": "text/x-python",
   "name": "python",
   "nbconvert_exporter": "python",
   "pygments_lexer": "ipython3",
   "version": "3.6.5"
  }
 },
 "nbformat": 4,
 "nbformat_minor": 2
}

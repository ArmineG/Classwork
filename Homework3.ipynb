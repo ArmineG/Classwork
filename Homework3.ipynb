{
 "cells": [
  {
   "cell_type": "code",
   "execution_count": 1,
   "metadata": {},
   "outputs": [],
   "source": [
    "import datetime\n",
    "import time\n",
    "import calendar"
   ]
  },
  {
   "cell_type": "code",
   "execution_count": 5,
   "metadata": {},
   "outputs": [
    {
     "name": "stdout",
     "output_type": "stream",
     "text": [
      "Local current time : Wed Sep 19 14:37:27 2018\n"
     ]
    }
   ],
   "source": [
    "localtime = time.asctime()\n",
    "print (\"Local current time :\", localtime)"
   ]
  },
  {
   "cell_type": "code",
   "execution_count": 10,
   "metadata": {},
   "outputs": [
    {
     "name": "stdout",
     "output_type": "stream",
     "text": [
      "Year:  2018\n",
      "Month:  9\n",
      "Day of the week (version 0):  3\n",
      "Day of the week (version 1):  2\n"
     ]
    }
   ],
   "source": [
    "tday = datetime.date.today()\n",
    "print('Year: ', tday.year)\n",
    "print('Month: ', tday.month)\n",
    "print('Day of the week (version 0): ', tday.isoweekday())\n",
    "print('Day of the week (version 1): ', tday.weekday())"
   ]
  },
  {
   "cell_type": "code",
   "execution_count": 19,
   "metadata": {},
   "outputs": [
    {
     "name": "stdout",
     "output_type": "stream",
     "text": [
      "Date today - 5 days:  2018-09-12\n",
      "+ 5 tick:  2018-09-26\n"
     ]
    }
   ],
   "source": [
    "tday = datetime.date.today()\n",
    "print('Date today - 5 days: ', tday - tdelta)\n"
   ]
  },
  {
   "cell_type": "code",
   "execution_count": 20,
   "metadata": {},
   "outputs": [
    {
     "name": "stdout",
     "output_type": "stream",
     "text": [
      "2018-09-10\n"
     ]
    }
   ],
   "source": [
    "d = datetime.date(2018, 9, 10)\n",
    "print(d)"
   ]
  },
  {
   "cell_type": "code",
   "execution_count": null,
   "metadata": {},
   "outputs": [],
   "source": []
  }
 ],
 "metadata": {
  "kernelspec": {
   "display_name": "Python 3",
   "language": "python",
   "name": "python3"
  },
  "language_info": {
   "codemirror_mode": {
    "name": "ipython",
    "version": 3
   },
   "file_extension": ".py",
   "mimetype": "text/x-python",
   "name": "python",
   "nbconvert_exporter": "python",
   "pygments_lexer": "ipython3",
   "version": "3.6.4"
  }
 },
 "nbformat": 4,
 "nbformat_minor": 2
}
